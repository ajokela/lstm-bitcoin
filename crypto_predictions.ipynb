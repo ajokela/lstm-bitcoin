{
 "cells": [
  {
   "cell_type": "code",
   "execution_count": null,
   "metadata": {
    "colab": {
     "base_uri": "https://localhost:8080/",
     "height": 510
    },
    "executionInfo": {
     "elapsed": 51648,
     "status": "ok",
     "timestamp": 1556172935562,
     "user": {
      "displayName": "Venelin Valkov",
      "photoUrl": "",
      "userId": "01328360181817234523"
     },
     "user_tz": -180
    },
    "id": "sHEdIovSDZ0l",
    "outputId": "ea5de3b9-e124-4614-c361-60f0bac0d73d"
   },
   "outputs": [],
   "source": [
    "!pip install tensorflow"
   ]
  },
  {
   "cell_type": "code",
   "execution_count": 1,
   "metadata": {
    "id": "VBXq-Wb_K1XR"
   },
   "outputs": [
    {
     "name": "stderr",
     "output_type": "stream",
     "text": [
      "2022-05-19 21:34:51.688102: W tensorflow/stream_executor/platform/default/dso_loader.cc:64] Could not load dynamic library 'libcudart.so.11.0'; dlerror: libcudart.so.11.0: cannot open shared object file: No such file or directory\n",
      "2022-05-19 21:34:51.688124: I tensorflow/stream_executor/cuda/cudart_stub.cc:29] Ignore above cudart dlerror if you do not have a GPU set up on your machine.\n"
     ]
    }
   ],
   "source": [
    "import os\n",
    "import numpy as np\n",
    "import tensorflow as tf\n",
    "from tensorflow import keras\n",
    "import pandas as pd\n",
    "import seaborn as sns\n",
    "from pylab import rcParams\n",
    "import matplotlib.pyplot as plt\n",
    "from matplotlib import rc\n",
    "from sklearn.preprocessing import MinMaxScaler\n",
    "from tensorflow.keras.layers import Bidirectional, Dropout, Activation, Dense, LSTM\n",
    "#from tensorflow.python.keras.layers import CuDNNLSTM\n",
    "from tensorflow.keras.models import Sequential\n",
    "import pandas_ta as ta\n",
    "import requests\n",
    "\n",
    "%matplotlib inline\n",
    "\n",
    "plt.style.use('fivethirtyeight')\n",
    "\n",
    "sns.set(style='whitegrid', palette='muted', font_scale=1.5)\n",
    "\n",
    "rcParams['figure.figsize'] = 14, 8\n",
    "\n",
    "RANDOM_SEED = 42\n",
    "\n",
    "np.random.seed(RANDOM_SEED)"
   ]
  },
  {
   "cell_type": "code",
   "execution_count": null,
   "metadata": {},
   "outputs": [],
   "source": [
    "!pip install pandas-ta"
   ]
  },
  {
   "cell_type": "code",
   "execution_count": 59,
   "metadata": {},
   "outputs": [
    {
     "data": {
      "text/plain": [
       "1095"
      ]
     },
     "execution_count": 59,
     "metadata": {},
     "output_type": "execute_result"
    }
   ],
   "source": [
    "365*3"
   ]
  },
  {
   "cell_type": "code",
   "execution_count": 60,
   "metadata": {
    "id": "y5o6dHO2LLz-"
   },
   "outputs": [],
   "source": [
    "# Data comes from:\n",
    "\n",
    "hnt_csv_path = \"https://query1.finance.yahoo.com/v7/finance/download/HNT-USD?period1=1495065600&period2=1652832000&interval=1d&events=history&includeAdjustedClose=true\"\n",
    "btc_csv_path = \"https://query1.finance.yahoo.com/v7/finance/download/BTC-USD?period1=1495065600&period2=1652832000&interval=1d&events=history&includeAdjustedClose=true\"\n",
    "dji_csv_path = \"https://query1.finance.yahoo.com/v7/finance/download/%5EDJI?period1=1495065600&period2=1652832000&interval=1d&events=history&includeAdjustedClose=true\"\n",
    "\n",
    "sentiment_path = \" https://api.alternative.me/fng/?format=json&limit=1095&date_format=us\"\n",
    "\n",
    "# csv_path = \"https://raw.githubusercontent.com/curiousily/Deep-Learning-For-Hackers/master/data/3.stock-prediction/BTC-USD.csv\"\n",
    "# csv_path = \"https://raw.githubusercontent.com/curiousily/Deep-Learning-For-Hackers/master/data/3.stock-prediction/AAPL.csv\""
   ]
  },
  {
   "cell_type": "code",
   "execution_count": 61,
   "metadata": {},
   "outputs": [],
   "source": [
    "req = requests.get(sentiment_path)\n",
    "\n",
    "df_sentiment = pd.DataFrame(req.json()['data'])\n",
    "\n",
    "df_sentiment['Date'] = pd.to_datetime(df_sentiment['timestamp'])"
   ]
  },
  {
   "cell_type": "code",
   "execution_count": 62,
   "metadata": {},
   "outputs": [],
   "source": [
    "df_sentiment = df_sentiment[[\"value\", \"Date\"]]"
   ]
  },
  {
   "cell_type": "code",
   "execution_count": 63,
   "metadata": {},
   "outputs": [
    {
     "data": {
      "text/plain": [
       "(1095, 2)"
      ]
     },
     "execution_count": 63,
     "metadata": {},
     "output_type": "execute_result"
    }
   ],
   "source": [
    "df_sentiment.shape"
   ]
  },
  {
   "cell_type": "code",
   "execution_count": 64,
   "metadata": {
    "id": "BnuBLC5DLjXH"
   },
   "outputs": [],
   "source": [
    "df_hnt = pd.read_csv(hnt_csv_path, parse_dates=['Date'])\n",
    "df_btc = pd.read_csv(btc_csv_path, parse_dates=['Date'])"
   ]
  },
  {
   "cell_type": "code",
   "execution_count": 65,
   "metadata": {},
   "outputs": [],
   "source": [
    "df_dji = pd.read_csv(dji_csv_path, parse_dates=['Date'])"
   ]
  },
  {
   "cell_type": "code",
   "execution_count": 66,
   "metadata": {
    "id": "kqMRRLeTLk_P"
   },
   "outputs": [],
   "source": [
    "df_hnt = df_hnt.sort_values('Date')\n",
    "df_btc = df_btc.sort_values('Date')\n",
    "df_dji = df_dji.sort_values('Date')\n",
    "df_sentiment = df_sentiment.sort_values('Date')"
   ]
  },
  {
   "cell_type": "code",
   "execution_count": 67,
   "metadata": {},
   "outputs": [],
   "source": [
    "df1 = pd.merge(df_btc, df_dji, 'inner', 'Date')\n",
    "df2 = pd.merge(df1, df_sentiment, 'inner', 'Date')\n",
    "df  = pd.merge(df2, df_hnt, 'inner', 'Date')"
   ]
  },
  {
   "cell_type": "code",
   "execution_count": 69,
   "metadata": {
    "colab": {
     "base_uri": "https://localhost:8080/",
     "height": 204
    },
    "executionInfo": {
     "elapsed": 58357,
     "status": "ok",
     "timestamp": 1556172942322,
     "user": {
      "displayName": "Venelin Valkov",
      "photoUrl": "",
      "userId": "01328360181817234523"
     },
     "user_tz": -180
    },
    "id": "mU4B3eNtLpgH",
    "outputId": "b61de067-73e6-4add-fc40-2ccd847d1349"
   },
   "outputs": [
    {
     "data": {
      "text/html": [
       "<div>\n",
       "<style scoped>\n",
       "    .dataframe tbody tr th:only-of-type {\n",
       "        vertical-align: middle;\n",
       "    }\n",
       "\n",
       "    .dataframe tbody tr th {\n",
       "        vertical-align: top;\n",
       "    }\n",
       "\n",
       "    .dataframe thead th {\n",
       "        text-align: right;\n",
       "    }\n",
       "</style>\n",
       "<table border=\"1\" class=\"dataframe\">\n",
       "  <thead>\n",
       "    <tr style=\"text-align: right;\">\n",
       "      <th></th>\n",
       "      <th>Date</th>\n",
       "      <th>Open_x</th>\n",
       "      <th>High_x</th>\n",
       "      <th>Low_x</th>\n",
       "      <th>Close_x</th>\n",
       "      <th>Adj Close_x</th>\n",
       "      <th>Volume_x</th>\n",
       "      <th>Open_y</th>\n",
       "      <th>High_y</th>\n",
       "      <th>Low_y</th>\n",
       "      <th>Close_y</th>\n",
       "      <th>Adj Close_y</th>\n",
       "      <th>Volume_y</th>\n",
       "      <th>value</th>\n",
       "      <th>Open</th>\n",
       "      <th>High</th>\n",
       "      <th>Low</th>\n",
       "      <th>Close</th>\n",
       "      <th>Adj Close</th>\n",
       "      <th>Volume</th>\n",
       "    </tr>\n",
       "  </thead>\n",
       "  <tbody>\n",
       "    <tr>\n",
       "      <th>0</th>\n",
       "      <td>2020-06-08</td>\n",
       "      <td>9760.063477</td>\n",
       "      <td>9782.306641</td>\n",
       "      <td>9675.885742</td>\n",
       "      <td>9771.489258</td>\n",
       "      <td>9771.489258</td>\n",
       "      <td>21486346312</td>\n",
       "      <td>27232.929688</td>\n",
       "      <td>27580.210938</td>\n",
       "      <td>27232.480469</td>\n",
       "      <td>27572.439453</td>\n",
       "      <td>27572.439453</td>\n",
       "      <td>430200000</td>\n",
       "      <td>53</td>\n",
       "      <td>0.273462</td>\n",
       "      <td>0.279798</td>\n",
       "      <td>0.270841</td>\n",
       "      <td>0.277823</td>\n",
       "      <td>0.277823</td>\n",
       "      <td>83279</td>\n",
       "    </tr>\n",
       "    <tr>\n",
       "      <th>1</th>\n",
       "      <td>2020-06-09</td>\n",
       "      <td>9774.360352</td>\n",
       "      <td>9836.369141</td>\n",
       "      <td>9664.719727</td>\n",
       "      <td>9795.700195</td>\n",
       "      <td>9795.700195</td>\n",
       "      <td>23717842783</td>\n",
       "      <td>27447.369141</td>\n",
       "      <td>27447.369141</td>\n",
       "      <td>27151.060547</td>\n",
       "      <td>27272.300781</td>\n",
       "      <td>27272.300781</td>\n",
       "      <td>381430000</td>\n",
       "      <td>52</td>\n",
       "      <td>0.272190</td>\n",
       "      <td>0.283733</td>\n",
       "      <td>0.254260</td>\n",
       "      <td>0.272145</td>\n",
       "      <td>0.272145</td>\n",
       "      <td>66395</td>\n",
       "    </tr>\n",
       "    <tr>\n",
       "      <th>2</th>\n",
       "      <td>2020-06-10</td>\n",
       "      <td>9794.119141</td>\n",
       "      <td>9908.896484</td>\n",
       "      <td>9728.291016</td>\n",
       "      <td>9870.094727</td>\n",
       "      <td>9870.094727</td>\n",
       "      <td>25706567601</td>\n",
       "      <td>27251.890625</td>\n",
       "      <td>27355.220703</td>\n",
       "      <td>26938.050781</td>\n",
       "      <td>26989.990234</td>\n",
       "      <td>26989.990234</td>\n",
       "      <td>448930000</td>\n",
       "      <td>54</td>\n",
       "      <td>0.272866</td>\n",
       "      <td>0.315967</td>\n",
       "      <td>0.253391</td>\n",
       "      <td>0.276225</td>\n",
       "      <td>0.276225</td>\n",
       "      <td>82810</td>\n",
       "    </tr>\n",
       "    <tr>\n",
       "      <th>3</th>\n",
       "      <td>2020-06-11</td>\n",
       "      <td>9870.078125</td>\n",
       "      <td>9938.297852</td>\n",
       "      <td>9263.069336</td>\n",
       "      <td>9321.781250</td>\n",
       "      <td>9321.781250</td>\n",
       "      <td>30247143440</td>\n",
       "      <td>26282.509766</td>\n",
       "      <td>26294.080078</td>\n",
       "      <td>25082.720703</td>\n",
       "      <td>25128.169922</td>\n",
       "      <td>25128.169922</td>\n",
       "      <td>647780000</td>\n",
       "      <td>52</td>\n",
       "      <td>0.276145</td>\n",
       "      <td>0.351870</td>\n",
       "      <td>0.275626</td>\n",
       "      <td>0.291165</td>\n",
       "      <td>0.291165</td>\n",
       "      <td>87567</td>\n",
       "    </tr>\n",
       "    <tr>\n",
       "      <th>4</th>\n",
       "      <td>2020-06-12</td>\n",
       "      <td>9320.690430</td>\n",
       "      <td>9540.465820</td>\n",
       "      <td>9285.851563</td>\n",
       "      <td>9480.843750</td>\n",
       "      <td>9480.843750</td>\n",
       "      <td>22610564515</td>\n",
       "      <td>25659.419922</td>\n",
       "      <td>25965.550781</td>\n",
       "      <td>25078.410156</td>\n",
       "      <td>25605.539063</td>\n",
       "      <td>25605.539063</td>\n",
       "      <td>514440000</td>\n",
       "      <td>38</td>\n",
       "      <td>0.285552</td>\n",
       "      <td>0.331206</td>\n",
       "      <td>0.285237</td>\n",
       "      <td>0.328463</td>\n",
       "      <td>0.328463</td>\n",
       "      <td>92564</td>\n",
       "    </tr>\n",
       "  </tbody>\n",
       "</table>\n",
       "</div>"
      ],
      "text/plain": [
       "        Date       Open_x       High_x        Low_x      Close_x  Adj Close_x  \\\n",
       "0 2020-06-08  9760.063477  9782.306641  9675.885742  9771.489258  9771.489258   \n",
       "1 2020-06-09  9774.360352  9836.369141  9664.719727  9795.700195  9795.700195   \n",
       "2 2020-06-10  9794.119141  9908.896484  9728.291016  9870.094727  9870.094727   \n",
       "3 2020-06-11  9870.078125  9938.297852  9263.069336  9321.781250  9321.781250   \n",
       "4 2020-06-12  9320.690430  9540.465820  9285.851563  9480.843750  9480.843750   \n",
       "\n",
       "      Volume_x        Open_y        High_y         Low_y       Close_y  \\\n",
       "0  21486346312  27232.929688  27580.210938  27232.480469  27572.439453   \n",
       "1  23717842783  27447.369141  27447.369141  27151.060547  27272.300781   \n",
       "2  25706567601  27251.890625  27355.220703  26938.050781  26989.990234   \n",
       "3  30247143440  26282.509766  26294.080078  25082.720703  25128.169922   \n",
       "4  22610564515  25659.419922  25965.550781  25078.410156  25605.539063   \n",
       "\n",
       "    Adj Close_y   Volume_y value      Open      High       Low     Close  \\\n",
       "0  27572.439453  430200000    53  0.273462  0.279798  0.270841  0.277823   \n",
       "1  27272.300781  381430000    52  0.272190  0.283733  0.254260  0.272145   \n",
       "2  26989.990234  448930000    54  0.272866  0.315967  0.253391  0.276225   \n",
       "3  25128.169922  647780000    52  0.276145  0.351870  0.275626  0.291165   \n",
       "4  25605.539063  514440000    38  0.285552  0.331206  0.285237  0.328463   \n",
       "\n",
       "   Adj Close  Volume  \n",
       "0   0.277823   83279  \n",
       "1   0.272145   66395  \n",
       "2   0.276225   82810  \n",
       "3   0.291165   87567  \n",
       "4   0.328463   92564  "
      ]
     },
     "execution_count": 69,
     "metadata": {},
     "output_type": "execute_result"
    }
   ],
   "source": [
    "df.head()"
   ]
  },
  {
   "cell_type": "code",
   "execution_count": 27,
   "metadata": {
    "colab": {
     "base_uri": "https://localhost:8080/",
     "height": 34
    },
    "executionInfo": {
     "elapsed": 58331,
     "status": "ok",
     "timestamp": 1556172942324,
     "user": {
      "displayName": "Venelin Valkov",
      "photoUrl": "",
      "userId": "01328360181817234523"
     },
     "user_tz": -180
    },
    "id": "t-xB1zK0C0mG",
    "outputId": "12a8abf5-4c5e-45c5-8a57-8c9f43fcf0a1"
   },
   "outputs": [
    {
     "data": {
      "text/plain": [
       "(250, 20)"
      ]
     },
     "execution_count": 27,
     "metadata": {},
     "output_type": "execute_result"
    }
   ],
   "source": [
    "df.shape"
   ]
  },
  {
   "cell_type": "code",
   "execution_count": 70,
   "metadata": {
    "colab": {
     "base_uri": "https://localhost:8080/",
     "height": 514
    },
    "executionInfo": {
     "elapsed": 59843,
     "status": "ok",
     "timestamp": 1556172943854,
     "user": {
      "displayName": "Venelin Valkov",
      "photoUrl": "",
      "userId": "01328360181817234523"
     },
     "user_tz": -180
    },
    "id": "4XyoR5lG3Jxv",
    "outputId": "c024bbc8-9101-43cb-fc71-02803e60e315"
   },
   "outputs": [
    {
     "data": {
      "text/plain": [
       "Text(0, 0.5, 'Close Price (USD)')"
      ]
     },
     "execution_count": 70,
     "metadata": {},
     "output_type": "execute_result"
    },
    {
     "data": {
      "image/png": "[encoded data removed]",
      "text/plain": [
       "<Figure size 1008x576 with 1 Axes>"
      ]
     },
     "metadata": {},
     "output_type": "display_data"
    }
   ],
   "source": [
    "ax = df.plot(x='Date', y='Adj Close');\n",
    "ax.set_xlabel(\"Date\")\n",
    "ax.set_ylabel(\"Close Price (USD)\")"
   ]
  },
  {
   "cell_type": "markdown",
   "metadata": {},
   "source": [
    "# Rolling Average"
   ]
  },
  {
   "cell_type": "code",
   "execution_count": 71,
   "metadata": {},
   "outputs": [],
   "source": [
    "df['RollingClose'] = df['Adj Close'].rolling(7).mean()"
   ]
  },
  {
   "cell_type": "code",
   "execution_count": 72,
   "metadata": {},
   "outputs": [
    {
     "data": {
      "text/html": [
       "<div>\n",
       "<style scoped>\n",
       "    .dataframe tbody tr th:only-of-type {\n",
       "        vertical-align: middle;\n",
       "    }\n",
       "\n",
       "    .dataframe tbody tr th {\n",
       "        vertical-align: top;\n",
       "    }\n",
       "\n",
       "    .dataframe thead th {\n",
       "        text-align: right;\n",
       "    }\n",
       "</style>\n",
       "<table border=\"1\" class=\"dataframe\">\n",
       "  <thead>\n",
       "    <tr style=\"text-align: right;\">\n",
       "      <th></th>\n",
       "      <th>Date</th>\n",
       "      <th>Open_x</th>\n",
       "      <th>High_x</th>\n",
       "      <th>Low_x</th>\n",
       "      <th>Close_x</th>\n",
       "      <th>Adj Close_x</th>\n",
       "      <th>Volume_x</th>\n",
       "      <th>Open_y</th>\n",
       "      <th>High_y</th>\n",
       "      <th>Low_y</th>\n",
       "      <th>...</th>\n",
       "      <th>Adj Close_y</th>\n",
       "      <th>Volume_y</th>\n",
       "      <th>value</th>\n",
       "      <th>Open</th>\n",
       "      <th>High</th>\n",
       "      <th>Low</th>\n",
       "      <th>Close</th>\n",
       "      <th>Adj Close</th>\n",
       "      <th>Volume</th>\n",
       "      <th>RollingClose</th>\n",
       "    </tr>\n",
       "  </thead>\n",
       "  <tbody>\n",
       "    <tr>\n",
       "      <th>0</th>\n",
       "      <td>2020-06-08</td>\n",
       "      <td>9760.063477</td>\n",
       "      <td>9782.306641</td>\n",
       "      <td>9675.885742</td>\n",
       "      <td>9771.489258</td>\n",
       "      <td>9771.489258</td>\n",
       "      <td>21486346312</td>\n",
       "      <td>27232.929688</td>\n",
       "      <td>27580.210938</td>\n",
       "      <td>27232.480469</td>\n",
       "      <td>...</td>\n",
       "      <td>27572.439453</td>\n",
       "      <td>430200000</td>\n",
       "      <td>53</td>\n",
       "      <td>0.273462</td>\n",
       "      <td>0.279798</td>\n",
       "      <td>0.270841</td>\n",
       "      <td>0.277823</td>\n",
       "      <td>0.277823</td>\n",
       "      <td>83279</td>\n",
       "      <td>NaN</td>\n",
       "    </tr>\n",
       "    <tr>\n",
       "      <th>1</th>\n",
       "      <td>2020-06-09</td>\n",
       "      <td>9774.360352</td>\n",
       "      <td>9836.369141</td>\n",
       "      <td>9664.719727</td>\n",
       "      <td>9795.700195</td>\n",
       "      <td>9795.700195</td>\n",
       "      <td>23717842783</td>\n",
       "      <td>27447.369141</td>\n",
       "      <td>27447.369141</td>\n",
       "      <td>27151.060547</td>\n",
       "      <td>...</td>\n",
       "      <td>27272.300781</td>\n",
       "      <td>381430000</td>\n",
       "      <td>52</td>\n",
       "      <td>0.272190</td>\n",
       "      <td>0.283733</td>\n",
       "      <td>0.254260</td>\n",
       "      <td>0.272145</td>\n",
       "      <td>0.272145</td>\n",
       "      <td>66395</td>\n",
       "      <td>NaN</td>\n",
       "    </tr>\n",
       "    <tr>\n",
       "      <th>2</th>\n",
       "      <td>2020-06-10</td>\n",
       "      <td>9794.119141</td>\n",
       "      <td>9908.896484</td>\n",
       "      <td>9728.291016</td>\n",
       "      <td>9870.094727</td>\n",
       "      <td>9870.094727</td>\n",
       "      <td>25706567601</td>\n",
       "      <td>27251.890625</td>\n",
       "      <td>27355.220703</td>\n",
       "      <td>26938.050781</td>\n",
       "      <td>...</td>\n",
       "      <td>26989.990234</td>\n",
       "      <td>448930000</td>\n",
       "      <td>54</td>\n",
       "      <td>0.272866</td>\n",
       "      <td>0.315967</td>\n",
       "      <td>0.253391</td>\n",
       "      <td>0.276225</td>\n",
       "      <td>0.276225</td>\n",
       "      <td>82810</td>\n",
       "      <td>NaN</td>\n",
       "    </tr>\n",
       "    <tr>\n",
       "      <th>3</th>\n",
       "      <td>2020-06-11</td>\n",
       "      <td>9870.078125</td>\n",
       "      <td>9938.297852</td>\n",
       "      <td>9263.069336</td>\n",
       "      <td>9321.781250</td>\n",
       "      <td>9321.781250</td>\n",
       "      <td>30247143440</td>\n",
       "      <td>26282.509766</td>\n",
       "      <td>26294.080078</td>\n",
       "      <td>25082.720703</td>\n",
       "      <td>...</td>\n",
       "      <td>25128.169922</td>\n",
       "      <td>647780000</td>\n",
       "      <td>52</td>\n",
       "      <td>0.276145</td>\n",
       "      <td>0.351870</td>\n",
       "      <td>0.275626</td>\n",
       "      <td>0.291165</td>\n",
       "      <td>0.291165</td>\n",
       "      <td>87567</td>\n",
       "      <td>NaN</td>\n",
       "    </tr>\n",
       "    <tr>\n",
       "      <th>4</th>\n",
       "      <td>2020-06-12</td>\n",
       "      <td>9320.690430</td>\n",
       "      <td>9540.465820</td>\n",
       "      <td>9285.851563</td>\n",
       "      <td>9480.843750</td>\n",
       "      <td>9480.843750</td>\n",
       "      <td>22610564515</td>\n",
       "      <td>25659.419922</td>\n",
       "      <td>25965.550781</td>\n",
       "      <td>25078.410156</td>\n",
       "      <td>...</td>\n",
       "      <td>25605.539063</td>\n",
       "      <td>514440000</td>\n",
       "      <td>38</td>\n",
       "      <td>0.285552</td>\n",
       "      <td>0.331206</td>\n",
       "      <td>0.285237</td>\n",
       "      <td>0.328463</td>\n",
       "      <td>0.328463</td>\n",
       "      <td>92564</td>\n",
       "      <td>NaN</td>\n",
       "    </tr>\n",
       "  </tbody>\n",
       "</table>\n",
       "<p>5 rows × 21 columns</p>\n",
       "</div>"
      ],
      "text/plain": [
       "        Date       Open_x       High_x        Low_x      Close_x  Adj Close_x  \\\n",
       "0 2020-06-08  9760.063477  9782.306641  9675.885742  9771.489258  9771.489258   \n",
       "1 2020-06-09  9774.360352  9836.369141  9664.719727  9795.700195  9795.700195   \n",
       "2 2020-06-10  9794.119141  9908.896484  9728.291016  9870.094727  9870.094727   \n",
       "3 2020-06-11  9870.078125  9938.297852  9263.069336  9321.781250  9321.781250   \n",
       "4 2020-06-12  9320.690430  9540.465820  9285.851563  9480.843750  9480.843750   \n",
       "\n",
       "      Volume_x        Open_y        High_y         Low_y  ...   Adj Close_y  \\\n",
       "0  21486346312  27232.929688  27580.210938  27232.480469  ...  27572.439453   \n",
       "1  23717842783  27447.369141  27447.369141  27151.060547  ...  27272.300781   \n",
       "2  25706567601  27251.890625  27355.220703  26938.050781  ...  26989.990234   \n",
       "3  30247143440  26282.509766  26294.080078  25082.720703  ...  25128.169922   \n",
       "4  22610564515  25659.419922  25965.550781  25078.410156  ...  25605.539063   \n",
       "\n",
       "    Volume_y  value      Open      High       Low     Close  Adj Close  \\\n",
       "0  430200000     53  0.273462  0.279798  0.270841  0.277823   0.277823   \n",
       "1  381430000     52  0.272190  0.283733  0.254260  0.272145   0.272145   \n",
       "2  448930000     54  0.272866  0.315967  0.253391  0.276225   0.276225   \n",
       "3  647780000     52  0.276145  0.351870  0.275626  0.291165   0.291165   \n",
       "4  514440000     38  0.285552  0.331206  0.285237  0.328463   0.328463   \n",
       "\n",
       "   Volume  RollingClose  \n",
       "0   83279           NaN  \n",
       "1   66395           NaN  \n",
       "2   82810           NaN  \n",
       "3   87567           NaN  \n",
       "4   92564           NaN  \n",
       "\n",
       "[5 rows x 21 columns]"
      ]
     },
     "execution_count": 72,
     "metadata": {},
     "output_type": "execute_result"
    }
   ],
   "source": [
    "df.head()"
   ]
  },
  {
   "cell_type": "markdown",
   "metadata": {},
   "source": [
    "# Scaler"
   ]
  },
  {
   "cell_type": "code",
   "execution_count": 73,
   "metadata": {},
   "outputs": [],
   "source": [
    "scaler = MinMaxScaler()"
   ]
  },
  {
   "cell_type": "markdown",
   "metadata": {
    "id": "7twAH-I-qO9Z"
   },
   "source": [
    "# Normalization"
   ]
  },
  {
   "cell_type": "code",
   "execution_count": null,
   "metadata": {
    "id": "Ux2FtgMAqObq"
   },
   "outputs": [],
   "source": [
    "close_price = df.Close.values.reshape(-1, 1)\n"
   ]
  },
  {
   "cell_type": "markdown",
   "metadata": {},
   "source": [
    "# Normalization of Rolling Average"
   ]
  },
  {
   "cell_type": "code",
   "execution_count": 74,
   "metadata": {},
   "outputs": [],
   "source": [
    "close_price = df.RollingClose.values.reshape(-1, 1)"
   ]
  },
  {
   "cell_type": "code",
   "execution_count": 75,
   "metadata": {},
   "outputs": [],
   "source": [
    "scaled_close = scaler.fit_transform(close_price)"
   ]
  },
  {
   "cell_type": "code",
   "execution_count": 76,
   "metadata": {
    "colab": {
     "base_uri": "https://localhost:8080/",
     "height": 34
    },
    "executionInfo": {
     "elapsed": 59827,
     "status": "ok",
     "timestamp": 1556172943858,
     "user": {
      "displayName": "Venelin Valkov",
      "photoUrl": "",
      "userId": "01328360181817234523"
     },
     "user_tz": -180
    },
    "id": "UprkaMWFvQOG",
    "outputId": "50828dd8-aa18-43af-998b-82e99fd8e8a9"
   },
   "outputs": [
    {
     "data": {
      "text/plain": [
       "(491, 1)"
      ]
     },
     "execution_count": 76,
     "metadata": {},
     "output_type": "execute_result"
    }
   ],
   "source": [
    "scaled_close.shape"
   ]
  },
  {
   "cell_type": "code",
   "execution_count": 77,
   "metadata": {
    "colab": {
     "base_uri": "https://localhost:8080/",
     "height": 34
    },
    "executionInfo": {
     "elapsed": 59813,
     "status": "ok",
     "timestamp": 1556172943860,
     "user": {
      "displayName": "Venelin Valkov",
      "photoUrl": "",
      "userId": "01328360181817234523"
     },
     "user_tz": -180
    },
    "id": "qOg2HX9AuTk-",
    "outputId": "a5666c09-544a-4115-b89b-ae5ee76537a1"
   },
   "outputs": [
    {
     "data": {
      "text/plain": [
       "True"
      ]
     },
     "execution_count": 77,
     "metadata": {},
     "output_type": "execute_result"
    }
   ],
   "source": [
    "np.isnan(scaled_close).any()"
   ]
  },
  {
   "cell_type": "code",
   "execution_count": 78,
   "metadata": {
    "id": "evHUrll9ukht"
   },
   "outputs": [],
   "source": [
    "scaled_close = scaled_close[~np.isnan(scaled_close)]"
   ]
  },
  {
   "cell_type": "code",
   "execution_count": 79,
   "metadata": {
    "id": "gCyOvwnqvTSw"
   },
   "outputs": [],
   "source": [
    "scaled_close = scaled_close.reshape(-1, 1)"
   ]
  },
  {
   "cell_type": "code",
   "execution_count": 80,
   "metadata": {
    "colab": {
     "base_uri": "https://localhost:8080/",
     "height": 34
    },
    "executionInfo": {
     "elapsed": 59792,
     "status": "ok",
     "timestamp": 1556172943866,
     "user": {
      "displayName": "Venelin Valkov",
      "photoUrl": "",
      "userId": "01328360181817234523"
     },
     "user_tz": -180
    },
    "id": "eSJxuT3-u6K2",
    "outputId": "e13df5e4-1efa-4734-8d46-3d700e4ea22b"
   },
   "outputs": [
    {
     "data": {
      "text/plain": [
       "False"
      ]
     },
     "execution_count": 80,
     "metadata": {},
     "output_type": "execute_result"
    }
   ],
   "source": [
    "np.isnan(scaled_close).any()"
   ]
  },
  {
   "cell_type": "code",
   "execution_count": 81,
   "metadata": {},
   "outputs": [
    {
     "data": {
      "text/plain": [
       "(485, 1)"
      ]
     },
     "execution_count": 81,
     "metadata": {},
     "output_type": "execute_result"
    }
   ],
   "source": [
    "scaled_close.shape"
   ]
  },
  {
   "cell_type": "markdown",
   "metadata": {
    "id": "CQgrA2va4Jzx"
   },
   "source": [
    "# Preprocessing"
   ]
  },
  {
   "cell_type": "code",
   "execution_count": 82,
   "metadata": {
    "id": "NS5O4-Vtq-N1"
   },
   "outputs": [],
   "source": [
    "SEQ_LEN = 128\n",
    "\n",
    "def to_sequences(data, seq_len):\n",
    "    d = []\n",
    "\n",
    "    for index in range(len(data) - seq_len):\n",
    "        d.append(data[index: index + seq_len])\n",
    "\n",
    "    return np.array(d)\n",
    "\n",
    "def preprocess(data_raw, seq_len, train_split):\n",
    "\n",
    "    data = to_sequences(data_raw, seq_len)\n",
    "\n",
    "    num_train = int(train_split * data.shape[0])\n",
    "\n",
    "    X_train = data[:num_train, :-1, :]\n",
    "    y_train = data[:num_train, -1, :]\n",
    "\n",
    "    X_test = data[num_train:, :-1, :]\n",
    "    y_test = data[num_train:, -1, :]\n",
    "\n",
    "    return X_train, y_train, X_test, y_test\n",
    "\n",
    "\n",
    "X_train, y_train, X_test, y_test = preprocess(scaled_close, SEQ_LEN, train_split = 0.7)"
   ]
  },
  {
   "cell_type": "code",
   "execution_count": 83,
   "metadata": {
    "colab": {
     "base_uri": "https://localhost:8080/",
     "height": 34
    },
    "executionInfo": {
     "elapsed": 1815,
     "status": "ok",
     "timestamp": 1556176524916,
     "user": {
      "displayName": "Venelin Valkov",
      "photoUrl": "",
      "userId": "01328360181817234523"
     },
     "user_tz": -180
    },
    "id": "XNBTUeaXreni",
    "outputId": "8e2462c7-6df4-4378-8f20-c610c1e3580d"
   },
   "outputs": [
    {
     "data": {
      "text/plain": [
       "(249, 127, 1)"
      ]
     },
     "execution_count": 83,
     "metadata": {},
     "output_type": "execute_result"
    }
   ],
   "source": [
    "X_train.shape"
   ]
  },
  {
   "cell_type": "code",
   "execution_count": 84,
   "metadata": {
    "colab": {
     "base_uri": "https://localhost:8080/",
     "height": 34
    },
    "executionInfo": {
     "elapsed": 2758,
     "status": "ok",
     "timestamp": 1556176528174,
     "user": {
      "displayName": "Venelin Valkov",
      "photoUrl": "",
      "userId": "01328360181817234523"
     },
     "user_tz": -180
    },
    "id": "4IOoiN3pUUgO",
    "outputId": "f5a1ae55-fc14-4af6-f9d5-116e0b32c6b5"
   },
   "outputs": [
    {
     "data": {
      "text/plain": [
       "(108, 127, 1)"
      ]
     },
     "execution_count": 84,
     "metadata": {},
     "output_type": "execute_result"
    }
   ],
   "source": [
    "X_test.shape"
   ]
  },
  {
   "cell_type": "markdown",
   "metadata": {
    "id": "Yhhv26c34YTW"
   },
   "source": [
    "# Model"
   ]
  },
  {
   "cell_type": "code",
   "execution_count": 85,
   "metadata": {
    "id": "a3dw5qTasJoy"
   },
   "outputs": [],
   "source": [
    "DROPOUT = 0.2\n",
    "WINDOW_SIZE = SEQ_LEN - 1\n",
    "\n",
    "model = keras.Sequential()\n",
    "\n",
    "model.add(Bidirectional(LSTM(WINDOW_SIZE, return_sequences=True),\n",
    "                        input_shape=(WINDOW_SIZE, X_train.shape[-1])))\n",
    "model.add(Dropout(rate=DROPOUT))\n",
    "\n",
    "model.add(Bidirectional(LSTM((WINDOW_SIZE * 2), return_sequences=True)))\n",
    "model.add(Dropout(rate=DROPOUT))\n",
    "\n",
    "model.add(Bidirectional(LSTM(WINDOW_SIZE, return_sequences=False)))\n",
    "\n",
    "model.add(Dense(units=1))\n",
    "\n",
    "model.add(Activation('linear'))"
   ]
  },
  {
   "cell_type": "markdown",
   "metadata": {
    "id": "pjBan-K27L8d"
   },
   "source": [
    "# Training"
   ]
  },
  {
   "cell_type": "code",
   "execution_count": 86,
   "metadata": {
    "id": "zvc-LMgOHkWJ"
   },
   "outputs": [],
   "source": [
    "model.compile(\n",
    "    loss='mean_squared_error', \n",
    "    optimizer='adam'\n",
    ")"
   ]
  },
  {
   "cell_type": "code",
   "execution_count": 87,
   "metadata": {},
   "outputs": [
    {
     "data": {
      "text/plain": [
       "(249, 127, 1)"
      ]
     },
     "execution_count": 87,
     "metadata": {},
     "output_type": "execute_result"
    }
   ],
   "source": [
    "X_train.shape"
   ]
  },
  {
   "cell_type": "code",
   "execution_count": null,
   "metadata": {},
   "outputs": [],
   "source": []
  },
  {
   "cell_type": "code",
   "execution_count": 88,
   "metadata": {},
   "outputs": [
    {
     "data": {
      "text/plain": [
       "(249, 1)"
      ]
     },
     "execution_count": 88,
     "metadata": {},
     "output_type": "execute_result"
    }
   ],
   "source": [
    "y_train.shape"
   ]
  },
  {
   "cell_type": "code",
   "execution_count": 89,
   "metadata": {
    "colab": {
     "base_uri": "https://localhost:8080/",
     "height": 1734
    },
    "executionInfo": {
     "elapsed": 376963,
     "status": "ok",
     "timestamp": 1556173261090,
     "user": {
      "displayName": "Venelin Valkov",
      "photoUrl": "",
      "userId": "01328360181817234523"
     },
     "user_tz": -180
    },
    "id": "m1aU2xDvsvrN",
    "outputId": "cf1ac72f-ca97-4b5d-fb2e-2d5614e1d8ad"
   },
   "outputs": [
    {
     "name": "stdout",
     "output_type": "stream",
     "text": [
      "Epoch 1/50\n",
      "4/4 [==============================] - 13s 2s/step - loss: 0.0139 - val_loss: 0.1659\n",
      "Epoch 2/50\n",
      "4/4 [==============================] - 4s 1s/step - loss: 0.0145 - val_loss: 0.0646\n",
      "Epoch 3/50\n",
      "4/4 [==============================] - 4s 1s/step - loss: 0.0097 - val_loss: 0.0764\n",
      "Epoch 4/50\n",
      "4/4 [==============================] - 5s 1s/step - loss: 0.0166 - val_loss: 0.1655\n",
      "Epoch 5/50\n",
      "4/4 [==============================] - 5s 1s/step - loss: 0.0042 - val_loss: 0.0317\n",
      "Epoch 6/50\n",
      "4/4 [==============================] - 4s 1s/step - loss: 0.0063 - val_loss: 0.0412\n",
      "Epoch 7/50\n",
      "4/4 [==============================] - 6s 1s/step - loss: 0.0052 - val_loss: 0.0947\n",
      "Epoch 8/50\n",
      "4/4 [==============================] - 6s 1s/step - loss: 0.0027 - val_loss: 0.0325\n",
      "Epoch 9/50\n",
      "4/4 [==============================] - 5s 1s/step - loss: 0.0029 - val_loss: 0.0237\n",
      "Epoch 10/50\n",
      "4/4 [==============================] - 6s 2s/step - loss: 0.0015 - val_loss: 0.0524\n",
      "Epoch 11/50\n",
      "4/4 [==============================] - 6s 2s/step - loss: 0.0020 - val_loss: 0.0383\n",
      "Epoch 12/50\n",
      "4/4 [==============================] - 5s 1s/step - loss: 0.0013 - val_loss: 0.0239\n",
      "Epoch 13/50\n",
      "4/4 [==============================] - 5s 1s/step - loss: 0.0012 - val_loss: 0.0348\n",
      "Epoch 14/50\n",
      "4/4 [==============================] - 5s 1s/step - loss: 0.0013 - val_loss: 0.0385\n",
      "Epoch 15/50\n",
      "4/4 [==============================] - 5s 1s/step - loss: 0.0010 - val_loss: 0.0259\n",
      "Epoch 16/50\n",
      "4/4 [==============================] - 5s 1s/step - loss: 0.0010 - val_loss: 0.0265\n",
      "Epoch 17/50\n",
      "4/4 [==============================] - 4s 1s/step - loss: 9.4032e-04 - val_loss: 0.0320\n",
      "Epoch 18/50\n",
      "4/4 [==============================] - 4s 1s/step - loss: 9.0947e-04 - val_loss: 0.0251\n",
      "Epoch 19/50\n",
      "4/4 [==============================] - 4s 1s/step - loss: 8.2856e-04 - val_loss: 0.0232\n",
      "Epoch 20/50\n",
      "4/4 [==============================] - 4s 1s/step - loss: 8.1066e-04 - val_loss: 0.0260\n",
      "Epoch 21/50\n",
      "4/4 [==============================] - 4s 1s/step - loss: 7.6570e-04 - val_loss: 0.0209\n",
      "Epoch 22/50\n",
      "4/4 [==============================] - 4s 1s/step - loss: 7.1040e-04 - val_loss: 0.0206\n",
      "Epoch 23/50\n",
      "4/4 [==============================] - 5s 1s/step - loss: 6.8538e-04 - val_loss: 0.0207\n",
      "Epoch 24/50\n",
      "4/4 [==============================] - 5s 1s/step - loss: 6.2116e-04 - val_loss: 0.0173\n",
      "Epoch 25/50\n",
      "4/4 [==============================] - 6s 1s/step - loss: 6.1052e-04 - val_loss: 0.0176\n",
      "Epoch 26/50\n",
      "4/4 [==============================] - 6s 1s/step - loss: 5.6820e-04 - val_loss: 0.0148\n",
      "Epoch 27/50\n",
      "4/4 [==============================] - 5s 1s/step - loss: 5.0059e-04 - val_loss: 0.0136\n",
      "Epoch 28/50\n",
      "4/4 [==============================] - 4s 1s/step - loss: 5.1672e-04 - val_loss: 0.0135\n",
      "Epoch 29/50\n",
      "4/4 [==============================] - 4s 1s/step - loss: 5.5119e-04 - val_loss: 0.0109\n",
      "Epoch 30/50\n",
      "4/4 [==============================] - 4s 1s/step - loss: 6.4454e-04 - val_loss: 0.0129\n",
      "Epoch 31/50\n",
      "4/4 [==============================] - 4s 1s/step - loss: 0.0011 - val_loss: 0.0091\n",
      "Epoch 32/50\n",
      "4/4 [==============================] - 4s 1s/step - loss: 0.0019 - val_loss: 0.0170\n",
      "Epoch 33/50\n",
      "4/4 [==============================] - 4s 1s/step - loss: 0.0036 - val_loss: 0.0285\n",
      "Epoch 34/50\n",
      "4/4 [==============================] - 4s 1s/step - loss: 0.0015 - val_loss: 0.0127\n",
      "Epoch 35/50\n",
      "4/4 [==============================] - 5s 1s/step - loss: 9.4982e-04 - val_loss: 0.0347\n",
      "Epoch 36/50\n",
      "4/4 [==============================] - 4s 1s/step - loss: 8.7722e-04 - val_loss: 0.0196\n",
      "Epoch 37/50\n",
      "4/4 [==============================] - 4s 1s/step - loss: 9.2963e-04 - val_loss: 0.0175\n",
      "Epoch 38/50\n",
      "4/4 [==============================] - 5s 1s/step - loss: 7.0245e-04 - val_loss: 0.0282\n",
      "Epoch 39/50\n",
      "4/4 [==============================] - 5s 1s/step - loss: 6.7022e-04 - val_loss: 0.0197\n",
      "Epoch 40/50\n",
      "4/4 [==============================] - 5s 1s/step - loss: 6.9562e-04 - val_loss: 0.0194\n",
      "Epoch 41/50\n",
      "4/4 [==============================] - 5s 1s/step - loss: 5.8952e-04 - val_loss: 0.0228\n",
      "Epoch 42/50\n",
      "4/4 [==============================] - 5s 1s/step - loss: 5.3251e-04 - val_loss: 0.0158\n",
      "Epoch 43/50\n",
      "4/4 [==============================] - 4s 1s/step - loss: 5.2395e-04 - val_loss: 0.0167\n",
      "Epoch 44/50\n",
      "4/4 [==============================] - 5s 1s/step - loss: 5.4418e-04 - val_loss: 0.0180\n",
      "Epoch 45/50\n",
      "4/4 [==============================] - 5s 1s/step - loss: 4.6403e-04 - val_loss: 0.0141\n",
      "Epoch 46/50\n",
      "4/4 [==============================] - 5s 1s/step - loss: 4.6742e-04 - val_loss: 0.0148\n",
      "Epoch 47/50\n",
      "4/4 [==============================] - 5s 1s/step - loss: 4.2563e-04 - val_loss: 0.0138\n",
      "Epoch 48/50\n",
      "4/4 [==============================] - 5s 1s/step - loss: 4.3062e-04 - val_loss: 0.0121\n",
      "Epoch 49/50\n",
      "4/4 [==============================] - 5s 1s/step - loss: 3.9663e-04 - val_loss: 0.0118\n",
      "Epoch 50/50\n",
      "4/4 [==============================] - 5s 1s/step - loss: 3.7387e-04 - val_loss: 0.0104\n"
     ]
    }
   ],
   "source": [
    "BATCH_SIZE = 64\n",
    "\n",
    "history = model.fit(\n",
    "    X_train, \n",
    "    y_train, \n",
    "    epochs=50, \n",
    "    batch_size=BATCH_SIZE, \n",
    "    shuffle=False,\n",
    "    validation_split=0.1\n",
    ")"
   ]
  },
  {
   "cell_type": "code",
   "execution_count": 90,
   "metadata": {
    "colab": {
     "base_uri": "https://localhost:8080/",
     "height": 51
    },
    "executionInfo": {
     "elapsed": 376951,
     "status": "ok",
     "timestamp": 1556173261091,
     "user": {
      "displayName": "Venelin Valkov",
      "photoUrl": "",
      "userId": "01328360181817234523"
     },
     "user_tz": -180
    },
    "id": "L9JumIeP40xv",
    "outputId": "ac7cfeaf-7540-4734-a82c-394383378b95"
   },
   "outputs": [
    {
     "name": "stdout",
     "output_type": "stream",
     "text": [
      "4/4 [==============================] - 1s 181ms/step - loss: 0.0039\n"
     ]
    },
    {
     "data": {
      "text/plain": [
       "0.0038791527040302753"
      ]
     },
     "execution_count": 90,
     "metadata": {},
     "output_type": "execute_result"
    }
   ],
   "source": [
    "model.evaluate(X_test, y_test)"
   ]
  },
  {
   "cell_type": "code",
   "execution_count": 91,
   "metadata": {
    "colab": {
     "base_uri": "https://localhost:8080/",
     "height": 535
    },
    "executionInfo": {
     "elapsed": 377634,
     "status": "ok",
     "timestamp": 1556173261792,
     "user": {
      "displayName": "Venelin Valkov",
      "photoUrl": "",
      "userId": "01328360181817234523"
     },
     "user_tz": -180
    },
    "id": "2_9ibR1e5DnQ",
    "outputId": "793cdf41-fc6b-4b4c-9959-82bcd6593625"
   },
   "outputs": [
    {
     "data": {
      "image/png": "[encoded data removed]",
      "text/plain": [
       "<Figure size 1008x576 with 1 Axes>"
      ]
     },
     "metadata": {},
     "output_type": "display_data"
    }
   ],
   "source": [
    "plt.plot(history.history['loss'])\n",
    "plt.plot(history.history['val_loss'])\n",
    "plt.title('model loss')\n",
    "plt.ylabel('loss')\n",
    "plt.xlabel('epoch')\n",
    "plt.legend(['train', 'test'], loc='upper left')\n",
    "plt.show()"
   ]
  },
  {
   "cell_type": "markdown",
   "metadata": {
    "id": "Xf9STH2D4_hP"
   },
   "source": [
    "# Prediction"
   ]
  },
  {
   "cell_type": "code",
   "execution_count": null,
   "metadata": {},
   "outputs": [],
   "source": [
    "X_test.shape"
   ]
  },
  {
   "cell_type": "code",
   "execution_count": null,
   "metadata": {},
   "outputs": [],
   "source": [
    "y_test.shape"
   ]
  },
  {
   "cell_type": "code",
   "execution_count": null,
   "metadata": {},
   "outputs": [],
   "source": [
    "y_hat = model.predict(X_test)\n",
    "\n",
    "y_test_inverse = scaler.inverse_transform(y_test)\n",
    "y_hat_inverse = scaler.inverse_transform(y_hat)"
   ]
  },
  {
   "cell_type": "code",
   "execution_count": 92,
   "metadata": {
    "colab": {
     "base_uri": "https://localhost:8080/",
     "height": 535
    },
    "executionInfo": {
     "elapsed": 2347,
     "status": "ok",
     "timestamp": 1556182698673,
     "user": {
      "displayName": "Venelin Valkov",
      "photoUrl": "",
      "userId": "01328360181817234523"
     },
     "user_tz": -180
    },
    "id": "Lui1XTi0xVsF",
    "outputId": "8aed2935-7395-474c-f5ba-c3dd0d8a423d"
   },
   "outputs": [
    {
     "name": "stdout",
     "output_type": "stream",
     "text": [
      "4/4 [==============================] - 2s 169ms/step\n"
     ]
    },
    {
     "data": {
      "image/png": "[encoded data removed]",
      "text/plain": [
       "<Figure size 1008x576 with 1 Axes>"
      ]
     },
     "metadata": {},
     "output_type": "display_data"
    }
   ],
   "source": [
    " \n",
    "plt.plot(y_test_inverse, label=\"Actual Price\", color='green')\n",
    "plt.plot(y_hat_inverse, label=\"Predicted Price\", color='red')\n",
    " \n",
    "plt.title('Rolling Average Weekly Helium price prediction')\n",
    "plt.xlabel('Time [days]')\n",
    "plt.ylabel('Price')\n",
    "plt.legend(loc='best')\n",
    " \n",
    "plt.show();"
   ]
  },
  {
   "cell_type": "markdown",
   "metadata": {},
   "source": [
    "# Make Bands"
   ]
  },
  {
   "cell_type": "code",
   "execution_count": 96,
   "metadata": {},
   "outputs": [],
   "source": [
    "yhi_df = pd.DataFrame(y_hat_inverse)\n",
    "yti_df = pd.DataFrame(y_test_inverse)\n",
    "yhi_df.columns = ['Predicted Price']\n",
    "yti_df.columns = ['Predicted Price']"
   ]
  },
  {
   "cell_type": "code",
   "execution_count": 117,
   "metadata": {},
   "outputs": [],
   "source": [
    "LITTLE_STEP = 3\n",
    "BIG_STEP    = 7\n",
    "\n",
    "yhi_df = pd.DataFrame(y_hat_inverse)\n",
    "yhi_df.columns = ['Predicted Price']\n",
    "\n",
    "little_key = \"SMA {}\".format(LITTLE_STEP)\n",
    "big_key    = \"SMA {}\".format(BIG_STEP)\n",
    "\n",
    "\n",
    "# calculate the standar deviation\n",
    "yhi_df['STD {}'.format(LITTLE_STEP)] = yhi_df['Predicted Price'].rolling(window=LITTLE_STEP).std()\n",
    "yhi_df['STD {}'.format(BIG_STEP)]= yhi_df['Predicted Price'].rolling(window=BIG_STEP).std()\n",
    "\n",
    "yhi_df['SMA {}'.format(LITTLE_STEP)] = ta.sma(yhi_df['Predicted Price'], LITTLE_STEP)\n",
    "yhi_df['SMA {}'.format(BIG_STEP)]= ta.sma(yhi_df['Predicted Price'], BIG_STEP)\n",
    "\n",
    "yhi_df['Upper SMA {}'.format(LITTLE_STEP)] = yhi_df['SMA {}'.format(LITTLE_STEP)] + 2 * yhi_df['STD {}'.format(LITTLE_STEP)]\n",
    "yhi_df['Lower SMA {}'.format(LITTLE_STEP)] = yhi_df['SMA {}'.format(LITTLE_STEP)] - 2 * yhi_df['STD {}'.format(LITTLE_STEP)]\n",
    "\n",
    "yhi_df['Upper SMA {}'.format(BIG_STEP)] = yhi_df['SMA {}'.format(BIG_STEP)] + 2 * yhi_df['STD {}'.format(LITTLE_STEP)]\n",
    "yhi_df['Lower SMA {}'.format(BIG_STEP)] = yhi_df['SMA {}'.format(BIG_STEP)] - 2 * yhi_df['STD {}'.format(BIG_STEP)]\n"
   ]
  },
  {
   "cell_type": "code",
   "execution_count": 118,
   "metadata": {},
   "outputs": [
    {
     "data": {
      "text/html": [
       "<div>\n",
       "<style scoped>\n",
       "    .dataframe tbody tr th:only-of-type {\n",
       "        vertical-align: middle;\n",
       "    }\n",
       "\n",
       "    .dataframe tbody tr th {\n",
       "        vertical-align: top;\n",
       "    }\n",
       "\n",
       "    .dataframe thead th {\n",
       "        text-align: right;\n",
       "    }\n",
       "</style>\n",
       "<table border=\"1\" class=\"dataframe\">\n",
       "  <thead>\n",
       "    <tr style=\"text-align: right;\">\n",
       "      <th></th>\n",
       "      <th>Predicted Price</th>\n",
       "      <th>STD 3</th>\n",
       "      <th>STD 7</th>\n",
       "      <th>SMA 3</th>\n",
       "      <th>SMA 7</th>\n",
       "      <th>Upper SMA 3</th>\n",
       "      <th>Lower SMA 3</th>\n",
       "      <th>Upper SMA 7</th>\n",
       "      <th>Lower SMA 7</th>\n",
       "    </tr>\n",
       "  </thead>\n",
       "  <tbody>\n",
       "    <tr>\n",
       "      <th>0</th>\n",
       "      <td>32.176369</td>\n",
       "      <td>NaN</td>\n",
       "      <td>NaN</td>\n",
       "      <td>NaN</td>\n",
       "      <td>NaN</td>\n",
       "      <td>NaN</td>\n",
       "      <td>NaN</td>\n",
       "      <td>NaN</td>\n",
       "      <td>NaN</td>\n",
       "    </tr>\n",
       "    <tr>\n",
       "      <th>1</th>\n",
       "      <td>30.957729</td>\n",
       "      <td>NaN</td>\n",
       "      <td>NaN</td>\n",
       "      <td>NaN</td>\n",
       "      <td>NaN</td>\n",
       "      <td>NaN</td>\n",
       "      <td>NaN</td>\n",
       "      <td>NaN</td>\n",
       "      <td>NaN</td>\n",
       "    </tr>\n",
       "    <tr>\n",
       "      <th>2</th>\n",
       "      <td>29.661713</td>\n",
       "      <td>1.257526</td>\n",
       "      <td>NaN</td>\n",
       "      <td>30.931937</td>\n",
       "      <td>NaN</td>\n",
       "      <td>33.446990</td>\n",
       "      <td>28.416884</td>\n",
       "      <td>NaN</td>\n",
       "      <td>NaN</td>\n",
       "    </tr>\n",
       "    <tr>\n",
       "      <th>3</th>\n",
       "      <td>28.423130</td>\n",
       "      <td>1.267408</td>\n",
       "      <td>NaN</td>\n",
       "      <td>29.680857</td>\n",
       "      <td>NaN</td>\n",
       "      <td>32.215674</td>\n",
       "      <td>27.146041</td>\n",
       "      <td>NaN</td>\n",
       "      <td>NaN</td>\n",
       "    </tr>\n",
       "    <tr>\n",
       "      <th>4</th>\n",
       "      <td>27.449091</td>\n",
       "      <td>1.108943</td>\n",
       "      <td>NaN</td>\n",
       "      <td>28.511311</td>\n",
       "      <td>NaN</td>\n",
       "      <td>30.729198</td>\n",
       "      <td>26.293424</td>\n",
       "      <td>NaN</td>\n",
       "      <td>NaN</td>\n",
       "    </tr>\n",
       "    <tr>\n",
       "      <th>...</th>\n",
       "      <td>...</td>\n",
       "      <td>...</td>\n",
       "      <td>...</td>\n",
       "      <td>...</td>\n",
       "      <td>...</td>\n",
       "      <td>...</td>\n",
       "      <td>...</td>\n",
       "      <td>...</td>\n",
       "      <td>...</td>\n",
       "    </tr>\n",
       "    <tr>\n",
       "      <th>103</th>\n",
       "      <td>18.804276</td>\n",
       "      <td>0.449264</td>\n",
       "      <td>0.457795</td>\n",
       "      <td>18.347252</td>\n",
       "      <td>17.954843</td>\n",
       "      <td>19.245780</td>\n",
       "      <td>17.448724</td>\n",
       "      <td>18.853371</td>\n",
       "      <td>17.039254</td>\n",
       "    </tr>\n",
       "    <tr>\n",
       "      <th>104</th>\n",
       "      <td>19.305286</td>\n",
       "      <td>0.487056</td>\n",
       "      <td>0.677833</td>\n",
       "      <td>18.813623</td>\n",
       "      <td>18.165149</td>\n",
       "      <td>19.787736</td>\n",
       "      <td>17.839511</td>\n",
       "      <td>19.139262</td>\n",
       "      <td>16.809484</td>\n",
       "    </tr>\n",
       "    <tr>\n",
       "      <th>105</th>\n",
       "      <td>19.675570</td>\n",
       "      <td>0.437278</td>\n",
       "      <td>0.831928</td>\n",
       "      <td>19.261710</td>\n",
       "      <td>18.457489</td>\n",
       "      <td>20.136267</td>\n",
       "      <td>18.387154</td>\n",
       "      <td>19.332046</td>\n",
       "      <td>16.793634</td>\n",
       "    </tr>\n",
       "    <tr>\n",
       "      <th>106</th>\n",
       "      <td>19.854406</td>\n",
       "      <td>0.280067</td>\n",
       "      <td>0.866195</td>\n",
       "      <td>19.611754</td>\n",
       "      <td>18.787846</td>\n",
       "      <td>20.171888</td>\n",
       "      <td>19.051620</td>\n",
       "      <td>19.347979</td>\n",
       "      <td>17.055455</td>\n",
       "    </tr>\n",
       "    <tr>\n",
       "      <th>107</th>\n",
       "      <td>19.780346</td>\n",
       "      <td>0.089857</td>\n",
       "      <td>0.764714</td>\n",
       "      <td>19.770107</td>\n",
       "      <td>19.093909</td>\n",
       "      <td>19.949821</td>\n",
       "      <td>19.590393</td>\n",
       "      <td>19.273623</td>\n",
       "      <td>17.564480</td>\n",
       "    </tr>\n",
       "  </tbody>\n",
       "</table>\n",
       "<p>108 rows × 9 columns</p>\n",
       "</div>"
      ],
      "text/plain": [
       "     Predicted Price     STD 3     STD 7      SMA 3      SMA 7  Upper SMA 3  \\\n",
       "0          32.176369       NaN       NaN        NaN        NaN          NaN   \n",
       "1          30.957729       NaN       NaN        NaN        NaN          NaN   \n",
       "2          29.661713  1.257526       NaN  30.931937        NaN    33.446990   \n",
       "3          28.423130  1.267408       NaN  29.680857        NaN    32.215674   \n",
       "4          27.449091  1.108943       NaN  28.511311        NaN    30.729198   \n",
       "..               ...       ...       ...        ...        ...          ...   \n",
       "103        18.804276  0.449264  0.457795  18.347252  17.954843    19.245780   \n",
       "104        19.305286  0.487056  0.677833  18.813623  18.165149    19.787736   \n",
       "105        19.675570  0.437278  0.831928  19.261710  18.457489    20.136267   \n",
       "106        19.854406  0.280067  0.866195  19.611754  18.787846    20.171888   \n",
       "107        19.780346  0.089857  0.764714  19.770107  19.093909    19.949821   \n",
       "\n",
       "     Lower SMA 3  Upper SMA 7  Lower SMA 7  \n",
       "0            NaN          NaN          NaN  \n",
       "1            NaN          NaN          NaN  \n",
       "2      28.416884          NaN          NaN  \n",
       "3      27.146041          NaN          NaN  \n",
       "4      26.293424          NaN          NaN  \n",
       "..           ...          ...          ...  \n",
       "103    17.448724    18.853371    17.039254  \n",
       "104    17.839511    19.139262    16.809484  \n",
       "105    18.387154    19.332046    16.793634  \n",
       "106    19.051620    19.347979    17.055455  \n",
       "107    19.590393    19.273623    17.564480  \n",
       "\n",
       "[108 rows x 9 columns]"
      ]
     },
     "execution_count": 118,
     "metadata": {},
     "output_type": "execute_result"
    }
   ],
   "source": [
    "yhi_df"
   ]
  },
  {
   "cell_type": "code",
   "execution_count": 119,
   "metadata": {},
   "outputs": [],
   "source": [
    "#SMA BUY SELL\n",
    "#Function for buy and sell signal\n",
    "def buy_sell(d):\n",
    "    signalBuy = []\n",
    "    signalSell = []\n",
    "    position = False\n",
    "    \n",
    "    little_key = \"SMA {}\".format(LITTLE_STEP)\n",
    "    big_key    = \"SMA {}\".format(BIG_STEP)\n",
    "    \n",
    "    for i in range(len(d)):\n",
    "        \n",
    "        if (d[little_key][i]) > d[big_key][i]:\n",
    "            if position == False :\n",
    "                signalBuy.append(d['Predicted Price'][i])\n",
    "                signalSell.append(np.nan)\n",
    "                position = True\n",
    "            else:\n",
    "                signalBuy.append(np.nan)\n",
    "                signalSell.append(np.nan)\n",
    "        elif (d[little_key][i]) < d[big_key][i]:\n",
    "            if position == True:\n",
    "                signalBuy.append(np.nan)\n",
    "                signalSell.append(d['Predicted Price'][i])\n",
    "                position = False\n",
    "            else:\n",
    "                signalBuy.append(np.nan)\n",
    "                signalSell.append(np.nan)\n",
    "        else:\n",
    "            signalBuy.append(np.nan)\n",
    "            signalSell.append(np.nan)\n",
    "                                \n",
    "    return pd.Series([signalBuy, signalSell])\n"
   ]
  },
  {
   "cell_type": "code",
   "execution_count": 120,
   "metadata": {},
   "outputs": [],
   "source": [
    "yhi_df['Buy_Signal_price'], yhi_df['Sell_Signal_price'] = buy_sell(yhi_df)"
   ]
  },
  {
   "cell_type": "code",
   "execution_count": 121,
   "metadata": {},
   "outputs": [
    {
     "data": {
      "text/html": [
       "<div>\n",
       "<style scoped>\n",
       "    .dataframe tbody tr th:only-of-type {\n",
       "        vertical-align: middle;\n",
       "    }\n",
       "\n",
       "    .dataframe tbody tr th {\n",
       "        vertical-align: top;\n",
       "    }\n",
       "\n",
       "    .dataframe thead th {\n",
       "        text-align: right;\n",
       "    }\n",
       "</style>\n",
       "<table border=\"1\" class=\"dataframe\">\n",
       "  <thead>\n",
       "    <tr style=\"text-align: right;\">\n",
       "      <th></th>\n",
       "      <th>Predicted Price</th>\n",
       "      <th>STD 3</th>\n",
       "      <th>STD 7</th>\n",
       "      <th>SMA 3</th>\n",
       "      <th>SMA 7</th>\n",
       "      <th>Upper SMA 3</th>\n",
       "      <th>Lower SMA 3</th>\n",
       "      <th>Upper SMA 7</th>\n",
       "      <th>Lower SMA 7</th>\n",
       "      <th>Buy_Signal_price</th>\n",
       "      <th>Sell_Signal_price</th>\n",
       "    </tr>\n",
       "  </thead>\n",
       "  <tbody>\n",
       "    <tr>\n",
       "      <th>0</th>\n",
       "      <td>32.176369</td>\n",
       "      <td>NaN</td>\n",
       "      <td>NaN</td>\n",
       "      <td>NaN</td>\n",
       "      <td>NaN</td>\n",
       "      <td>NaN</td>\n",
       "      <td>NaN</td>\n",
       "      <td>NaN</td>\n",
       "      <td>NaN</td>\n",
       "      <td>NaN</td>\n",
       "      <td>NaN</td>\n",
       "    </tr>\n",
       "    <tr>\n",
       "      <th>1</th>\n",
       "      <td>30.957729</td>\n",
       "      <td>NaN</td>\n",
       "      <td>NaN</td>\n",
       "      <td>NaN</td>\n",
       "      <td>NaN</td>\n",
       "      <td>NaN</td>\n",
       "      <td>NaN</td>\n",
       "      <td>NaN</td>\n",
       "      <td>NaN</td>\n",
       "      <td>NaN</td>\n",
       "      <td>NaN</td>\n",
       "    </tr>\n",
       "    <tr>\n",
       "      <th>2</th>\n",
       "      <td>29.661713</td>\n",
       "      <td>1.257526</td>\n",
       "      <td>NaN</td>\n",
       "      <td>30.931937</td>\n",
       "      <td>NaN</td>\n",
       "      <td>33.446990</td>\n",
       "      <td>28.416884</td>\n",
       "      <td>NaN</td>\n",
       "      <td>NaN</td>\n",
       "      <td>NaN</td>\n",
       "      <td>NaN</td>\n",
       "    </tr>\n",
       "    <tr>\n",
       "      <th>3</th>\n",
       "      <td>28.423130</td>\n",
       "      <td>1.267408</td>\n",
       "      <td>NaN</td>\n",
       "      <td>29.680857</td>\n",
       "      <td>NaN</td>\n",
       "      <td>32.215674</td>\n",
       "      <td>27.146041</td>\n",
       "      <td>NaN</td>\n",
       "      <td>NaN</td>\n",
       "      <td>NaN</td>\n",
       "      <td>NaN</td>\n",
       "    </tr>\n",
       "    <tr>\n",
       "      <th>4</th>\n",
       "      <td>27.449091</td>\n",
       "      <td>1.108943</td>\n",
       "      <td>NaN</td>\n",
       "      <td>28.511311</td>\n",
       "      <td>NaN</td>\n",
       "      <td>30.729198</td>\n",
       "      <td>26.293424</td>\n",
       "      <td>NaN</td>\n",
       "      <td>NaN</td>\n",
       "      <td>NaN</td>\n",
       "      <td>NaN</td>\n",
       "    </tr>\n",
       "    <tr>\n",
       "      <th>...</th>\n",
       "      <td>...</td>\n",
       "      <td>...</td>\n",
       "      <td>...</td>\n",
       "      <td>...</td>\n",
       "      <td>...</td>\n",
       "      <td>...</td>\n",
       "      <td>...</td>\n",
       "      <td>...</td>\n",
       "      <td>...</td>\n",
       "      <td>...</td>\n",
       "      <td>...</td>\n",
       "    </tr>\n",
       "    <tr>\n",
       "      <th>103</th>\n",
       "      <td>18.804276</td>\n",
       "      <td>0.449264</td>\n",
       "      <td>0.457795</td>\n",
       "      <td>18.347252</td>\n",
       "      <td>17.954843</td>\n",
       "      <td>19.245780</td>\n",
       "      <td>17.448724</td>\n",
       "      <td>18.853371</td>\n",
       "      <td>17.039254</td>\n",
       "      <td>NaN</td>\n",
       "      <td>NaN</td>\n",
       "    </tr>\n",
       "    <tr>\n",
       "      <th>104</th>\n",
       "      <td>19.305286</td>\n",
       "      <td>0.487056</td>\n",
       "      <td>0.677833</td>\n",
       "      <td>18.813623</td>\n",
       "      <td>18.165149</td>\n",
       "      <td>19.787736</td>\n",
       "      <td>17.839511</td>\n",
       "      <td>19.139262</td>\n",
       "      <td>16.809484</td>\n",
       "      <td>NaN</td>\n",
       "      <td>NaN</td>\n",
       "    </tr>\n",
       "    <tr>\n",
       "      <th>105</th>\n",
       "      <td>19.675570</td>\n",
       "      <td>0.437278</td>\n",
       "      <td>0.831928</td>\n",
       "      <td>19.261710</td>\n",
       "      <td>18.457489</td>\n",
       "      <td>20.136267</td>\n",
       "      <td>18.387154</td>\n",
       "      <td>19.332046</td>\n",
       "      <td>16.793634</td>\n",
       "      <td>NaN</td>\n",
       "      <td>NaN</td>\n",
       "    </tr>\n",
       "    <tr>\n",
       "      <th>106</th>\n",
       "      <td>19.854406</td>\n",
       "      <td>0.280067</td>\n",
       "      <td>0.866195</td>\n",
       "      <td>19.611754</td>\n",
       "      <td>18.787846</td>\n",
       "      <td>20.171888</td>\n",
       "      <td>19.051620</td>\n",
       "      <td>19.347979</td>\n",
       "      <td>17.055455</td>\n",
       "      <td>NaN</td>\n",
       "      <td>NaN</td>\n",
       "    </tr>\n",
       "    <tr>\n",
       "      <th>107</th>\n",
       "      <td>19.780346</td>\n",
       "      <td>0.089857</td>\n",
       "      <td>0.764714</td>\n",
       "      <td>19.770107</td>\n",
       "      <td>19.093909</td>\n",
       "      <td>19.949821</td>\n",
       "      <td>19.590393</td>\n",
       "      <td>19.273623</td>\n",
       "      <td>17.564480</td>\n",
       "      <td>NaN</td>\n",
       "      <td>NaN</td>\n",
       "    </tr>\n",
       "  </tbody>\n",
       "</table>\n",
       "<p>108 rows × 11 columns</p>\n",
       "</div>"
      ],
      "text/plain": [
       "     Predicted Price     STD 3     STD 7      SMA 3      SMA 7  Upper SMA 3  \\\n",
       "0          32.176369       NaN       NaN        NaN        NaN          NaN   \n",
       "1          30.957729       NaN       NaN        NaN        NaN          NaN   \n",
       "2          29.661713  1.257526       NaN  30.931937        NaN    33.446990   \n",
       "3          28.423130  1.267408       NaN  29.680857        NaN    32.215674   \n",
       "4          27.449091  1.108943       NaN  28.511311        NaN    30.729198   \n",
       "..               ...       ...       ...        ...        ...          ...   \n",
       "103        18.804276  0.449264  0.457795  18.347252  17.954843    19.245780   \n",
       "104        19.305286  0.487056  0.677833  18.813623  18.165149    19.787736   \n",
       "105        19.675570  0.437278  0.831928  19.261710  18.457489    20.136267   \n",
       "106        19.854406  0.280067  0.866195  19.611754  18.787846    20.171888   \n",
       "107        19.780346  0.089857  0.764714  19.770107  19.093909    19.949821   \n",
       "\n",
       "     Lower SMA 3  Upper SMA 7  Lower SMA 7  Buy_Signal_price  \\\n",
       "0            NaN          NaN          NaN               NaN   \n",
       "1            NaN          NaN          NaN               NaN   \n",
       "2      28.416884          NaN          NaN               NaN   \n",
       "3      27.146041          NaN          NaN               NaN   \n",
       "4      26.293424          NaN          NaN               NaN   \n",
       "..           ...          ...          ...               ...   \n",
       "103    17.448724    18.853371    17.039254               NaN   \n",
       "104    17.839511    19.139262    16.809484               NaN   \n",
       "105    18.387154    19.332046    16.793634               NaN   \n",
       "106    19.051620    19.347979    17.055455               NaN   \n",
       "107    19.590393    19.273623    17.564480               NaN   \n",
       "\n",
       "     Sell_Signal_price  \n",
       "0                  NaN  \n",
       "1                  NaN  \n",
       "2                  NaN  \n",
       "3                  NaN  \n",
       "4                  NaN  \n",
       "..                 ...  \n",
       "103                NaN  \n",
       "104                NaN  \n",
       "105                NaN  \n",
       "106                NaN  \n",
       "107                NaN  \n",
       "\n",
       "[108 rows x 11 columns]"
      ]
     },
     "execution_count": 121,
     "metadata": {},
     "output_type": "execute_result"
    }
   ],
   "source": [
    "yhi_df"
   ]
  },
  {
   "cell_type": "code",
   "execution_count": 122,
   "metadata": {},
   "outputs": [
    {
     "data": {
      "text/plain": [
       "Predicted Price      False\n",
       "STD 3                False\n",
       "STD 7                False\n",
       "SMA 3                False\n",
       "SMA 7                False\n",
       "Upper SMA 3          False\n",
       "Lower SMA 3          False\n",
       "Upper SMA 7          False\n",
       "Lower SMA 7          False\n",
       "Buy_Signal_price     False\n",
       "Sell_Signal_price    False\n",
       "dtype: bool"
      ]
     },
     "execution_count": 122,
     "metadata": {},
     "output_type": "execute_result"
    }
   ],
   "source": [
    "np.isnan(yhi_df).all()"
   ]
  },
  {
   "cell_type": "code",
   "execution_count": 123,
   "metadata": {},
   "outputs": [
    {
     "data": {
      "image/png": "[encoded data removed]",
      "text/plain": [
       "<Figure size 1008x576 with 1 Axes>"
      ]
     },
     "metadata": {},
     "output_type": "display_data"
    }
   ],
   "source": [
    "\n",
    "\n",
    "fig, ax = plt.subplots(figsize=(14,8))\n",
    "ax.plot(yhi_df['Predicted Price'] , label = \"HNT\" ,linewidth=0.5, color='blue', alpha = 0.9)\n",
    "ax.plot(yhi_df['SMA {}'.format(LITTLE_STEP)], label = 'SMA{}'.format(LITTLE_STEP), alpha = 0.85)\n",
    "ax.plot(yhi_df['SMA {}'.format(BIG_STEP)], label = 'SMA{}'.format(BIG_STEP) , alpha = 0.85)\n",
    "\n",
    "ax.fill_between(yhi_df.index, yhi_df['Lower SMA {}'.format(LITTLE_STEP)], yhi_df['Upper SMA {}'.format(LITTLE_STEP)], color='#CCADFF', alpha=0.4, label=\"Predicted Band {}\".format(LITTLE_STEP))\n",
    "ax.fill_between(yhi_df.index, yhi_df['Lower SMA {}'.format(BIG_STEP)], yhi_df['Upper SMA {}'.format(BIG_STEP)], color='#FFCCAD', alpha=0.4, label=\"Predicted Band {}\".format(BIG_STEP))\n",
    "\n",
    "ax.scatter(yhi_df.index , yhi_df['Buy_Signal_price'] , label = 'Buy' , marker = '^', color = 'green',alpha =1 )\n",
    "ax.scatter(yhi_df.index , yhi_df['Sell_Signal_price'] , label = 'Sell' , marker = 'v', color = 'red',alpha =1 )\n",
    "ax.set_title(\"Helium Price History with buy and sell signals\",fontsize=20, color='black')\n",
    "#ax.set_xlabel(f'{startdate} - {end_date}' ,fontsize=18)\n",
    "ax.set_ylabel('Predicted Price' , fontsize=18)\n",
    "legend = ax.legend()\n",
    "ax.grid()\n",
    "plt.tight_layout()\n",
    "plt.show()"
   ]
  },
  {
   "cell_type": "code",
   "execution_count": null,
   "metadata": {},
   "outputs": [],
   "source": []
  }
 ],
 "metadata": {
  "accelerator": "GPU",
  "colab": {
   "collapsed_sections": [],
   "name": "Copy of 3.stock_prediction.ipynb",
   "provenance": [
    {
     "file_id": "1wWvtA5RC6-is6J8W86wzK52Knr3N1Xbm",
     "timestamp": 1652914157111
    }
   ]
  },
  "kernelspec": {
   "display_name": "Python 3 (ipykernel)",
   "language": "python",
   "name": "python3"
  },
  "language_info": {
   "codemirror_mode": {
    "name": "ipython",
    "version": 3
   },
   "file_extension": ".py",
   "mimetype": "text/x-python",
   "name": "python",
   "nbconvert_exporter": "python",
   "pygments_lexer": "ipython3",
   "version": "3.9.7"
  }
 },
 "nbformat": 4,
 "nbformat_minor": 1
}
